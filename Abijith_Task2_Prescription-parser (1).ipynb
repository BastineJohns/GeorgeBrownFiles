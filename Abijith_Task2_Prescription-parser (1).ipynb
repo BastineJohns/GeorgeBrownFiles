{
 "cells": [
  {
   "cell_type": "markdown",
   "metadata": {},
   "source": [
    "\n",
    "# Task 1: Create a Prescription Parser using CRF\n",
    "This task tests your ability to build a Doctor Prescription Parser with the help of CRF model\n",
    "\n",
    "Your job is to build a Prescription Parser that takes a prescription (sentence) as an input and find / label the words in that sentence with one of the already pre-defined labels\n",
    "\n",
    "### Problem: SEQUENCE PREDICTION - Label words in a sentence\n",
    "#### Input : Doctor Prescription in the form of a sentence split into tokens\n",
    "- Ex: Take 2 tablets once a day for 10 days\n",
    "\n",
    "#### Output : FHIR Labels\n",
    "- ('Take', 'Method')\n",
    "- ('2', 'Qty') \n",
    "- ('tablets', 'Form')\n",
    "- ('once', 'Frequency')\n",
    "- ('a', 'Period') \n",
    "- ('day', 'PeriodUnit')\n",
    "- ('for', 'FOR')\n",
    "- ('10', 'Duration')\n",
    "- ('days', 'DurationUnit') "
   ]
  },
  {
   "cell_type": "markdown",
   "metadata": {},
   "source": [
    "### Major Steps\n",
    "- Install necessary library\n",
    "- Import the libraries\n",
    "- Create training data with labels\n",
    "    - Split the sentence into tokens\n",
    "    - Compute POS tags\n",
    "    - Create triples\n",
    "- Extract features\n",
    "- Split the data into training and testing set\n",
    "- Create CRF model\n",
    "- Save the CRF model\n",
    "- Load the CRF model\n",
    "- Predict on test data\n",
    "- Accuracy"
   ]
  },
  {
   "cell_type": "markdown",
   "metadata": {},
   "source": [
    "#### Install necesaary library"
   ]
  },
  {
   "cell_type": "code",
   "execution_count": 2,
   "metadata": {},
   "outputs": [],
   "source": [
    "# !pip install sklearn-crfsuite"
   ]
  },
  {
   "cell_type": "markdown",
   "metadata": {},
   "source": [
    "#### Import the necessary libraries"
   ]
  },
  {
   "cell_type": "code",
   "execution_count": 3,
   "metadata": {},
   "outputs": [],
   "source": [
    "import nltk\n",
    "import sklearn_crfsuite\n",
    "from sklearn_crfsuite import metrics\n",
    "from sklearn.model_selection import train_test_split\n",
    "from sklearn.preprocessing import LabelBinarizer\n",
    "from nltk import pos_tag, word_tokenize\n",
    "from nltk.chunk import conlltags2tree, tree2conlltags\n",
    "from nltk.tokenize import word_tokenize"
   ]
  },
  {
   "cell_type": "markdown",
   "metadata": {},
   "source": [
    "### Input data (GIVEN)\n",
    "#### Creating the inputs to the ML model in the following form:\n",
    "- sigs --> ['take 3 tabs for 10 days']       INPUT SIG\n",
    "- input_sigs --> [['take', '3', 'tabs', 'for', '10', 'days']]      TOKENS\n",
    "- output_labels --> [['Method','Qty', 'Form', 'FOR', 'Duration', 'DurationUnit']]       LABELS"
   ]
  },
  {
   "cell_type": "code",
   "execution_count": 4,
   "metadata": {},
   "outputs": [],
   "source": [
    "sigs = [\"for 5 to 6 days\", \"inject 2 units\", \"x 2 weeks\", \"x 3 days\", \"every day\", \"every 2 weeks\", \"every 3 days\", \"every 1 to 2 months\", \"every 2 to 6 weeks\", \"every 4 to 6 days\", \"take two to four tabs\", \"take 2 to 4 tabs\", \"take 3 tabs orally bid for 10 days at bedtime\", \"swallow three capsules tid orally\", \"take 2 capsules po every 6 hours\", \"take 2 tabs po for 10 days\", \"take 100 caps by mouth tid for 10 weeks\", \"take 2 tabs after an hour\", \"2 tabs every 4-6 hours\", \"every 4 to 6 hours\", \"q46h\", \"q4-6h\", \"2 hours before breakfast\", \"before 30 mins at bedtime\", \"30 mins before bed\", \"and 100 tabs twice a month\", \"100 tabs twice a month\", \"100 tabs once a month\", \"100 tabs thrice a month\", \"3 tabs daily for 3 days then 1 tab per day at bed\", \"30 tabs 10 days tid\", \"take 30 tabs for 10 days three times a day\", \"qid q6h\", \"bid\", \"qid\", \"30 tabs before dinner and bedtime\", \"30 tabs before dinner & bedtime\", \"take 3 tabs at bedtime\", \"30 tabs thrice daily for 10 days \", \"30 tabs for 10 days three times a day\", \"Take 2 tablets a day\", \"qid for 10 days\", \"every day\", \"take 2 caps at bedtime\", \"apply 3 drops before bedtime\", \"take three capsules daily\", \"swallow 3 pills once a day\", \"swallow three pills thrice a day\", \"apply daily\", \"apply three drops before bedtime\", \"every 6 hours\", \"before food\", \"after food\", \"for 20 days\", \"for twenty days\", \"with meals\"]\n",
    "input_sigs = [['for', '5', 'to', '6', 'days'], ['inject', '2', 'units'], ['x', '2', 'weeks'], ['x', '3', 'days'], ['every', 'day'], ['every', '2', 'weeks'], ['every', '3', 'days'], ['every', '1', 'to', '2', 'months'], ['every', '2', 'to', '6', 'weeks'], ['every', '4', 'to', '6', 'days'], ['take', 'two', 'to', 'four', 'tabs'], ['take', '2', 'to', '4', 'tabs'], ['take', '3', 'tabs', 'orally', 'bid', 'for', '10', 'days', 'at', 'bedtime'], ['swallow', 'three', 'capsules', 'tid', 'orally'], ['take', '2', 'capsules', 'po', 'every', '6', 'hours'], ['take', '2', 'tabs', 'po', 'for', '10', 'days'], ['take', '100', 'caps', 'by', 'mouth', 'tid', 'for', '10', 'weeks'], ['take', '2', 'tabs', 'after', 'an', 'hour'], ['2', 'tabs', 'every', '4-6', 'hours'], ['every', '4', 'to', '6', 'hours'], ['q46h'], ['q4-6h'], ['2', 'hours', 'before', 'breakfast'], ['before', '30', 'mins', 'at', 'bedtime'], ['30', 'mins', 'before', 'bed'], ['and', '100', 'tabs', 'twice', 'a', 'month'], ['100', 'tabs', 'twice', 'a', 'month'], ['100', 'tabs', 'once', 'a', 'month'], ['100', 'tabs', 'thrice', 'a', 'month'], ['3', 'tabs', 'daily', 'for', '3', 'days', 'then', '1', 'tab', 'per', 'day', 'at', 'bed'], ['30', 'tabs', '10', 'days', 'tid'], ['take', '30', 'tabs', 'for', '10', 'days', 'three', 'times', 'a', 'day'], ['qid', 'q6h'], ['bid'], ['qid'], ['30', 'tabs', 'before', 'dinner', 'and', 'bedtime'], ['30', 'tabs', 'before', 'dinner', '&', 'bedtime'], ['take', '3', 'tabs', 'at', 'bedtime'], ['30', 'tabs', 'thrice', 'daily', 'for', '10', 'days'], ['30', 'tabs', 'for', '10', 'days', 'three', 'times', 'a', 'day'], ['take', '2', 'tablets', 'a', 'day'], ['qid', 'for', '10', 'days'], ['every', 'day'], ['take', '2', 'caps', 'at', 'bedtime'], ['apply', '3', 'drops', 'before', 'bedtime'], ['take', 'three', 'capsules', 'daily'], ['swallow', '3', 'pills', 'once', 'a', 'day'], ['swallow', 'three', 'pills', 'thrice', 'a', 'day'], ['apply', 'daily'], ['apply', 'three', 'drops', 'before', 'bedtime'], ['every', '6', 'hours'], ['before', 'food'], ['after', 'food'], ['for', '20', 'days'], ['for', 'twenty', 'days'], ['with', 'meals']]\n",
    "output_labels = [['FOR', 'Duration', 'TO', 'DurationMax', 'DurationUnit'], ['Method', 'Qty', 'Form'], ['FOR', 'Duration', 'DurationUnit'], ['FOR', 'Duration', 'DurationUnit'], ['EVERY', 'Period'], ['EVERY', 'Period', 'PeriodUnit'], ['EVERY', 'Period', 'PeriodUnit'], ['EVERY', 'Period', 'TO', 'PeriodMax', 'PeriodUnit'], ['EVERY', 'Period', 'TO', 'PeriodMax', 'PeriodUnit'], ['EVERY', 'Period', 'TO', 'PeriodMax', 'PeriodUnit'], ['Method', 'Qty', 'TO', 'Qty', 'Form'], ['Method', 'Qty', 'TO', 'Qty', 'Form'], ['Method', 'Qty', 'Form', 'PO', 'BID', 'FOR', 'Duration', 'DurationUnit', 'AT', 'WHEN'], ['Method', 'Qty', 'Form', 'TID', 'PO'], ['Method', 'Qty', 'Form', 'PO', 'EVERY', 'Period', 'PeriodUnit'], ['Method', 'Qty', 'Form', 'PO', 'FOR', 'Duration', 'DurationUnit'], ['Method', 'Qty', 'Form', 'BY', 'PO', 'TID', 'FOR', 'Duration', 'DurationUnit'], ['Method', 'Qty', 'Form', 'AFTER', 'Period', 'PeriodUnit'], ['Qty', 'Form', 'EVERY', 'Period', 'PeriodUnit'], ['EVERY', 'Period', 'TO', 'PeriodMax', 'PeriodUnit'], ['Q46H'], ['Q4-6H'], ['Qty', 'PeriodUnit', 'BEFORE', 'WHEN'], ['BEFORE', 'Qty', 'M', 'AT', 'WHEN'], ['Qty', 'M', 'BEFORE', 'WHEN'], ['AND', 'Qty', 'Form', 'Frequency', 'Period', 'PeriodUnit'], ['Qty', 'Form', 'Frequency', 'Period', 'PeriodUnit'], ['Qty', 'Form', 'Frequency', 'Period', 'PeriodUnit'], ['Qty', 'Form', 'Frequency', 'Period', 'PeriodUnit'], ['Qty', 'Form', 'Frequency', 'FOR', 'Duration', 'DurationUnit', 'THEN', 'Qty', 'Form', 'Frequency', 'PeriodUnit', 'AT', 'WHEN'], ['Qty', 'Form', 'Duration', 'DurationUnit', 'TID'], ['Method', 'Qty', 'Form', 'FOR', 'Duration', 'DurationUnit', 'Qty', 'TIMES', 'Period', 'PeriodUnit'], ['QID', 'Q6H'], ['BID'], ['QID'],['Qty', 'Form', 'BEFORE', 'WHEN', 'AND', 'WHEN'], ['Qty', 'Form', 'BEFORE', 'WHEN', 'AND', 'WHEN'], ['Method', 'Qty', 'Form', 'AT', 'WHEN'], ['Qty', 'Form', 'Frequency', 'DAILY', 'FOR', 'Duration', 'DurationUnit'], ['Qty', 'Form', 'FOR', 'Duration', 'DurationUnit', 'Frequency', 'TIMES', 'Period', 'PeriodUnit'], ['Method', 'Qty', 'Form', 'Period', 'PeriodUnit'], ['QID', 'FOR', 'Duration', 'DurationUnit'], ['EVERY', 'PeriodUnit'], ['Method', 'Qty', 'Form', 'AT', 'WHEN'], ['Method', 'Qty', 'Form', 'BEFORE', 'WHEN'], ['Method', 'Qty', 'Form', 'DAILY'], ['Method', 'Qty', 'Form', 'Frequency', 'Period', 'PeriodUnit'], ['Method', 'Qty', 'Form', 'Frequency', 'Period', 'PeriodUnit'], ['Method', 'DAILY'], ['Method', 'Qty', 'Form', 'BEFORE', 'WHEN'], ['EVERY', 'Period', 'PeriodUnit'], ['BEFORE', 'FOOD'], ['AFTER', 'FOOD'], ['FOR', 'Duration', 'DurationUnit'], ['FOR', 'Duration', 'DurationUnit'], ['WITH', 'FOOD']]"
   ]
  },
  {
   "cell_type": "code",
   "execution_count": 5,
   "metadata": {},
   "outputs": [
    {
     "data": {
      "text/plain": [
       "(56, 56, 56)"
      ]
     },
     "execution_count": 5,
     "metadata": {},
     "output_type": "execute_result"
    }
   ],
   "source": [
    "len(sigs), len(input_sigs) , len(output_labels)"
   ]
  },
  {
   "cell_type": "markdown",
   "metadata": {},
   "source": [
    "### Creating a Tuples Maker method\n",
    "Create the tuples as given below by writing a function **tuples_maker(input_sigs, output_labels)** and returns **output** as given below\n",
    "\n",
    "Input(s): \n",
    "- input_sigs\n",
    "- output_lables\n",
    "\n",
    "Output:\n",
    "\n",
    "[[('for', 'FOR'),\n",
    "  ('5', 'Duration'),\n",
    "  ('to', 'TO'),\n",
    "  ('6', 'DurationMax'),\n",
    "  ('days', 'DurationUnit')], [second sentence], ...]"
   ]
  },
  {
   "cell_type": "code",
   "execution_count": 6,
   "metadata": {},
   "outputs": [],
   "source": [
    "def tuples_maker(inp, out):\n",
    "    sample_data = []\n",
    "\n",
    "    for tokens, labels in zip(inp, out):\n",
    "        tuples = [(token, label) for token, label in zip(tokens, labels)]\n",
    "        sample_data.append(tuples)\n",
    "\n",
    "    return sample_data"
   ]
  },
  {
   "cell_type": "code",
   "execution_count": 12,
   "metadata": {},
   "outputs": [
    {
     "data": {
      "text/plain": [
       "[[('for', 'FOR'),\n",
       "  ('5', 'Duration'),\n",
       "  ('to', 'TO'),\n",
       "  ('6', 'DurationMax'),\n",
       "  ('days', 'DurationUnit')],\n",
       " [('inject', 'Method'), ('2', 'Qty'), ('units', 'Form')],\n",
       " [('x', 'FOR'), ('2', 'Duration'), ('weeks', 'DurationUnit')],\n",
       " [('x', 'FOR'), ('3', 'Duration'), ('days', 'DurationUnit')],\n",
       " [('every', 'EVERY'), ('day', 'Period')],\n",
       " [('every', 'EVERY'), ('2', 'Period'), ('weeks', 'PeriodUnit')],\n",
       " [('every', 'EVERY'), ('3', 'Period'), ('days', 'PeriodUnit')],\n",
       " [('every', 'EVERY'),\n",
       "  ('1', 'Period'),\n",
       "  ('to', 'TO'),\n",
       "  ('2', 'PeriodMax'),\n",
       "  ('months', 'PeriodUnit')],\n",
       " [('every', 'EVERY'),\n",
       "  ('2', 'Period'),\n",
       "  ('to', 'TO'),\n",
       "  ('6', 'PeriodMax'),\n",
       "  ('weeks', 'PeriodUnit')],\n",
       " [('every', 'EVERY'),\n",
       "  ('4', 'Period'),\n",
       "  ('to', 'TO'),\n",
       "  ('6', 'PeriodMax'),\n",
       "  ('days', 'PeriodUnit')],\n",
       " [('take', 'Method'),\n",
       "  ('two', 'Qty'),\n",
       "  ('to', 'TO'),\n",
       "  ('four', 'Qty'),\n",
       "  ('tabs', 'Form')],\n",
       " [('take', 'Method'),\n",
       "  ('2', 'Qty'),\n",
       "  ('to', 'TO'),\n",
       "  ('4', 'Qty'),\n",
       "  ('tabs', 'Form')],\n",
       " [('take', 'Method'),\n",
       "  ('3', 'Qty'),\n",
       "  ('tabs', 'Form'),\n",
       "  ('orally', 'PO'),\n",
       "  ('bid', 'BID'),\n",
       "  ('for', 'FOR'),\n",
       "  ('10', 'Duration'),\n",
       "  ('days', 'DurationUnit'),\n",
       "  ('at', 'AT'),\n",
       "  ('bedtime', 'WHEN')],\n",
       " [('swallow', 'Method'),\n",
       "  ('three', 'Qty'),\n",
       "  ('capsules', 'Form'),\n",
       "  ('tid', 'TID'),\n",
       "  ('orally', 'PO')],\n",
       " [('take', 'Method'),\n",
       "  ('2', 'Qty'),\n",
       "  ('capsules', 'Form'),\n",
       "  ('po', 'PO'),\n",
       "  ('every', 'EVERY'),\n",
       "  ('6', 'Period'),\n",
       "  ('hours', 'PeriodUnit')],\n",
       " [('take', 'Method'),\n",
       "  ('2', 'Qty'),\n",
       "  ('tabs', 'Form'),\n",
       "  ('po', 'PO'),\n",
       "  ('for', 'FOR'),\n",
       "  ('10', 'Duration'),\n",
       "  ('days', 'DurationUnit')],\n",
       " [('take', 'Method'),\n",
       "  ('100', 'Qty'),\n",
       "  ('caps', 'Form'),\n",
       "  ('by', 'BY'),\n",
       "  ('mouth', 'PO'),\n",
       "  ('tid', 'TID'),\n",
       "  ('for', 'FOR'),\n",
       "  ('10', 'Duration'),\n",
       "  ('weeks', 'DurationUnit')],\n",
       " [('take', 'Method'),\n",
       "  ('2', 'Qty'),\n",
       "  ('tabs', 'Form'),\n",
       "  ('after', 'AFTER'),\n",
       "  ('an', 'Period'),\n",
       "  ('hour', 'PeriodUnit')],\n",
       " [('2', 'Qty'),\n",
       "  ('tabs', 'Form'),\n",
       "  ('every', 'EVERY'),\n",
       "  ('4-6', 'Period'),\n",
       "  ('hours', 'PeriodUnit')],\n",
       " [('every', 'EVERY'),\n",
       "  ('4', 'Period'),\n",
       "  ('to', 'TO'),\n",
       "  ('6', 'PeriodMax'),\n",
       "  ('hours', 'PeriodUnit')],\n",
       " [('q46h', 'Q46H')],\n",
       " [('q4-6h', 'Q4-6H')],\n",
       " [('2', 'Qty'),\n",
       "  ('hours', 'PeriodUnit'),\n",
       "  ('before', 'BEFORE'),\n",
       "  ('breakfast', 'WHEN')],\n",
       " [('before', 'BEFORE'),\n",
       "  ('30', 'Qty'),\n",
       "  ('mins', 'M'),\n",
       "  ('at', 'AT'),\n",
       "  ('bedtime', 'WHEN')],\n",
       " [('30', 'Qty'), ('mins', 'M'), ('before', 'BEFORE'), ('bed', 'WHEN')],\n",
       " [('and', 'AND'),\n",
       "  ('100', 'Qty'),\n",
       "  ('tabs', 'Form'),\n",
       "  ('twice', 'Frequency'),\n",
       "  ('a', 'Period'),\n",
       "  ('month', 'PeriodUnit')],\n",
       " [('100', 'Qty'),\n",
       "  ('tabs', 'Form'),\n",
       "  ('twice', 'Frequency'),\n",
       "  ('a', 'Period'),\n",
       "  ('month', 'PeriodUnit')],\n",
       " [('100', 'Qty'),\n",
       "  ('tabs', 'Form'),\n",
       "  ('once', 'Frequency'),\n",
       "  ('a', 'Period'),\n",
       "  ('month', 'PeriodUnit')],\n",
       " [('100', 'Qty'),\n",
       "  ('tabs', 'Form'),\n",
       "  ('thrice', 'Frequency'),\n",
       "  ('a', 'Period'),\n",
       "  ('month', 'PeriodUnit')],\n",
       " [('3', 'Qty'),\n",
       "  ('tabs', 'Form'),\n",
       "  ('daily', 'Frequency'),\n",
       "  ('for', 'FOR'),\n",
       "  ('3', 'Duration'),\n",
       "  ('days', 'DurationUnit'),\n",
       "  ('then', 'THEN'),\n",
       "  ('1', 'Qty'),\n",
       "  ('tab', 'Form'),\n",
       "  ('per', 'Frequency'),\n",
       "  ('day', 'PeriodUnit'),\n",
       "  ('at', 'AT'),\n",
       "  ('bed', 'WHEN')],\n",
       " [('30', 'Qty'),\n",
       "  ('tabs', 'Form'),\n",
       "  ('10', 'Duration'),\n",
       "  ('days', 'DurationUnit'),\n",
       "  ('tid', 'TID')],\n",
       " [('take', 'Method'),\n",
       "  ('30', 'Qty'),\n",
       "  ('tabs', 'Form'),\n",
       "  ('for', 'FOR'),\n",
       "  ('10', 'Duration'),\n",
       "  ('days', 'DurationUnit'),\n",
       "  ('three', 'Qty'),\n",
       "  ('times', 'TIMES'),\n",
       "  ('a', 'Period'),\n",
       "  ('day', 'PeriodUnit')],\n",
       " [('qid', 'QID'), ('q6h', 'Q6H')],\n",
       " [('bid', 'BID')],\n",
       " [('qid', 'QID')],\n",
       " [('30', 'Qty'),\n",
       "  ('tabs', 'Form'),\n",
       "  ('before', 'BEFORE'),\n",
       "  ('dinner', 'WHEN'),\n",
       "  ('and', 'AND'),\n",
       "  ('bedtime', 'WHEN')],\n",
       " [('30', 'Qty'),\n",
       "  ('tabs', 'Form'),\n",
       "  ('before', 'BEFORE'),\n",
       "  ('dinner', 'WHEN'),\n",
       "  ('&', 'AND'),\n",
       "  ('bedtime', 'WHEN')],\n",
       " [('take', 'Method'),\n",
       "  ('3', 'Qty'),\n",
       "  ('tabs', 'Form'),\n",
       "  ('at', 'AT'),\n",
       "  ('bedtime', 'WHEN')],\n",
       " [('30', 'Qty'),\n",
       "  ('tabs', 'Form'),\n",
       "  ('thrice', 'Frequency'),\n",
       "  ('daily', 'DAILY'),\n",
       "  ('for', 'FOR'),\n",
       "  ('10', 'Duration'),\n",
       "  ('days', 'DurationUnit')],\n",
       " [('30', 'Qty'),\n",
       "  ('tabs', 'Form'),\n",
       "  ('for', 'FOR'),\n",
       "  ('10', 'Duration'),\n",
       "  ('days', 'DurationUnit'),\n",
       "  ('three', 'Frequency'),\n",
       "  ('times', 'TIMES'),\n",
       "  ('a', 'Period'),\n",
       "  ('day', 'PeriodUnit')],\n",
       " [('take', 'Method'),\n",
       "  ('2', 'Qty'),\n",
       "  ('tablets', 'Form'),\n",
       "  ('a', 'Period'),\n",
       "  ('day', 'PeriodUnit')],\n",
       " [('qid', 'QID'),\n",
       "  ('for', 'FOR'),\n",
       "  ('10', 'Duration'),\n",
       "  ('days', 'DurationUnit')],\n",
       " [('every', 'EVERY'), ('day', 'PeriodUnit')],\n",
       " [('take', 'Method'),\n",
       "  ('2', 'Qty'),\n",
       "  ('caps', 'Form'),\n",
       "  ('at', 'AT'),\n",
       "  ('bedtime', 'WHEN')],\n",
       " [('apply', 'Method'),\n",
       "  ('3', 'Qty'),\n",
       "  ('drops', 'Form'),\n",
       "  ('before', 'BEFORE'),\n",
       "  ('bedtime', 'WHEN')],\n",
       " [('take', 'Method'),\n",
       "  ('three', 'Qty'),\n",
       "  ('capsules', 'Form'),\n",
       "  ('daily', 'DAILY')],\n",
       " [('swallow', 'Method'),\n",
       "  ('3', 'Qty'),\n",
       "  ('pills', 'Form'),\n",
       "  ('once', 'Frequency'),\n",
       "  ('a', 'Period'),\n",
       "  ('day', 'PeriodUnit')],\n",
       " [('swallow', 'Method'),\n",
       "  ('three', 'Qty'),\n",
       "  ('pills', 'Form'),\n",
       "  ('thrice', 'Frequency'),\n",
       "  ('a', 'Period'),\n",
       "  ('day', 'PeriodUnit')],\n",
       " [('apply', 'Method'), ('daily', 'DAILY')],\n",
       " [('apply', 'Method'),\n",
       "  ('three', 'Qty'),\n",
       "  ('drops', 'Form'),\n",
       "  ('before', 'BEFORE'),\n",
       "  ('bedtime', 'WHEN')],\n",
       " [('every', 'EVERY'), ('6', 'Period'), ('hours', 'PeriodUnit')],\n",
       " [('before', 'BEFORE'), ('food', 'FOOD')],\n",
       " [('after', 'AFTER'), ('food', 'FOOD')],\n",
       " [('for', 'FOR'), ('20', 'Duration'), ('days', 'DurationUnit')],\n",
       " [('for', 'FOR'), ('twenty', 'Duration'), ('days', 'DurationUnit')],\n",
       " [('with', 'WITH'), ('meals', 'FOOD')]]"
      ]
     },
     "execution_count": 12,
     "metadata": {},
     "output_type": "execute_result"
    }
   ],
   "source": [
    "whole_data = tuples_maker(input_sigs, output_labels)\n",
    "whole_data"
   ]
  },
  {
   "cell_type": "markdown",
   "metadata": {},
   "source": [
    "### Creating the triples_maker( ) for feature extraction\n",
    "- input: tuples_maker_output\n",
    "- output: \n",
    "[[('for', 'IN', 'FOR'),\n",
    "  ('5', 'CD', 'Duration'),\n",
    "  ('to', 'TO', 'TO'),\n",
    "  ('6', 'CD', 'DurationMax'),\n",
    "  ('days', 'NNS', 'DurationUnit')], [second sentence], ... ]"
   ]
  },
  {
   "cell_type": "code",
   "execution_count": 13,
   "metadata": {},
   "outputs": [],
   "source": [
    "def triples_maker(whole_data):\n",
    "    sample_data = []\n",
    "\n",
    "    for sentence in whole_data:\n",
    "        triples = [(token, nltk.pos_tag([token])[0][1], label) for token, label in sentence]\n",
    "        sample_data.append(triples)\n",
    "\n",
    "    return sample_data"
   ]
  },
  {
   "cell_type": "code",
   "execution_count": 14,
   "metadata": {},
   "outputs": [
    {
     "data": {
      "text/plain": [
       "[[('for', 'IN', 'FOR'),\n",
       "  ('5', 'CD', 'Duration'),\n",
       "  ('to', 'TO', 'TO'),\n",
       "  ('6', 'CD', 'DurationMax'),\n",
       "  ('days', 'NNS', 'DurationUnit')],\n",
       " [('inject', 'NN', 'Method'), ('2', 'CD', 'Qty'), ('units', 'NNS', 'Form')],\n",
       " [('x', 'NN', 'FOR'),\n",
       "  ('2', 'CD', 'Duration'),\n",
       "  ('weeks', 'NNS', 'DurationUnit')],\n",
       " [('x', 'NN', 'FOR'),\n",
       "  ('3', 'CD', 'Duration'),\n",
       "  ('days', 'NNS', 'DurationUnit')],\n",
       " [('every', 'DT', 'EVERY'), ('day', 'NN', 'Period')],\n",
       " [('every', 'DT', 'EVERY'),\n",
       "  ('2', 'CD', 'Period'),\n",
       "  ('weeks', 'NNS', 'PeriodUnit')],\n",
       " [('every', 'DT', 'EVERY'),\n",
       "  ('3', 'CD', 'Period'),\n",
       "  ('days', 'NNS', 'PeriodUnit')],\n",
       " [('every', 'DT', 'EVERY'),\n",
       "  ('1', 'CD', 'Period'),\n",
       "  ('to', 'TO', 'TO'),\n",
       "  ('2', 'CD', 'PeriodMax'),\n",
       "  ('months', 'NNS', 'PeriodUnit')],\n",
       " [('every', 'DT', 'EVERY'),\n",
       "  ('2', 'CD', 'Period'),\n",
       "  ('to', 'TO', 'TO'),\n",
       "  ('6', 'CD', 'PeriodMax'),\n",
       "  ('weeks', 'NNS', 'PeriodUnit')],\n",
       " [('every', 'DT', 'EVERY'),\n",
       "  ('4', 'CD', 'Period'),\n",
       "  ('to', 'TO', 'TO'),\n",
       "  ('6', 'CD', 'PeriodMax'),\n",
       "  ('days', 'NNS', 'PeriodUnit')],\n",
       " [('take', 'VB', 'Method'),\n",
       "  ('two', 'CD', 'Qty'),\n",
       "  ('to', 'TO', 'TO'),\n",
       "  ('four', 'CD', 'Qty'),\n",
       "  ('tabs', 'NNS', 'Form')],\n",
       " [('take', 'VB', 'Method'),\n",
       "  ('2', 'CD', 'Qty'),\n",
       "  ('to', 'TO', 'TO'),\n",
       "  ('4', 'CD', 'Qty'),\n",
       "  ('tabs', 'NNS', 'Form')],\n",
       " [('take', 'VB', 'Method'),\n",
       "  ('3', 'CD', 'Qty'),\n",
       "  ('tabs', 'NNS', 'Form'),\n",
       "  ('orally', 'RB', 'PO'),\n",
       "  ('bid', 'NN', 'BID'),\n",
       "  ('for', 'IN', 'FOR'),\n",
       "  ('10', 'CD', 'Duration'),\n",
       "  ('days', 'NNS', 'DurationUnit'),\n",
       "  ('at', 'IN', 'AT'),\n",
       "  ('bedtime', 'NN', 'WHEN')],\n",
       " [('swallow', 'NN', 'Method'),\n",
       "  ('three', 'CD', 'Qty'),\n",
       "  ('capsules', 'NNS', 'Form'),\n",
       "  ('tid', 'NN', 'TID'),\n",
       "  ('orally', 'RB', 'PO')],\n",
       " [('take', 'VB', 'Method'),\n",
       "  ('2', 'CD', 'Qty'),\n",
       "  ('capsules', 'NNS', 'Form'),\n",
       "  ('po', 'NN', 'PO'),\n",
       "  ('every', 'DT', 'EVERY'),\n",
       "  ('6', 'CD', 'Period'),\n",
       "  ('hours', 'NNS', 'PeriodUnit')],\n",
       " [('take', 'VB', 'Method'),\n",
       "  ('2', 'CD', 'Qty'),\n",
       "  ('tabs', 'NNS', 'Form'),\n",
       "  ('po', 'NN', 'PO'),\n",
       "  ('for', 'IN', 'FOR'),\n",
       "  ('10', 'CD', 'Duration'),\n",
       "  ('days', 'NNS', 'DurationUnit')],\n",
       " [('take', 'VB', 'Method'),\n",
       "  ('100', 'CD', 'Qty'),\n",
       "  ('caps', 'NNS', 'Form'),\n",
       "  ('by', 'IN', 'BY'),\n",
       "  ('mouth', 'NN', 'PO'),\n",
       "  ('tid', 'NN', 'TID'),\n",
       "  ('for', 'IN', 'FOR'),\n",
       "  ('10', 'CD', 'Duration'),\n",
       "  ('weeks', 'NNS', 'DurationUnit')],\n",
       " [('take', 'VB', 'Method'),\n",
       "  ('2', 'CD', 'Qty'),\n",
       "  ('tabs', 'NNS', 'Form'),\n",
       "  ('after', 'IN', 'AFTER'),\n",
       "  ('an', 'DT', 'Period'),\n",
       "  ('hour', 'NN', 'PeriodUnit')],\n",
       " [('2', 'CD', 'Qty'),\n",
       "  ('tabs', 'NNS', 'Form'),\n",
       "  ('every', 'DT', 'EVERY'),\n",
       "  ('4-6', 'JJ', 'Period'),\n",
       "  ('hours', 'NNS', 'PeriodUnit')],\n",
       " [('every', 'DT', 'EVERY'),\n",
       "  ('4', 'CD', 'Period'),\n",
       "  ('to', 'TO', 'TO'),\n",
       "  ('6', 'CD', 'PeriodMax'),\n",
       "  ('hours', 'NNS', 'PeriodUnit')],\n",
       " [('q46h', 'NN', 'Q46H')],\n",
       " [('q4-6h', 'NN', 'Q4-6H')],\n",
       " [('2', 'CD', 'Qty'),\n",
       "  ('hours', 'NNS', 'PeriodUnit'),\n",
       "  ('before', 'IN', 'BEFORE'),\n",
       "  ('breakfast', 'NN', 'WHEN')],\n",
       " [('before', 'IN', 'BEFORE'),\n",
       "  ('30', 'CD', 'Qty'),\n",
       "  ('mins', 'NNS', 'M'),\n",
       "  ('at', 'IN', 'AT'),\n",
       "  ('bedtime', 'NN', 'WHEN')],\n",
       " [('30', 'CD', 'Qty'),\n",
       "  ('mins', 'NNS', 'M'),\n",
       "  ('before', 'IN', 'BEFORE'),\n",
       "  ('bed', 'NN', 'WHEN')],\n",
       " [('and', 'CC', 'AND'),\n",
       "  ('100', 'CD', 'Qty'),\n",
       "  ('tabs', 'NNS', 'Form'),\n",
       "  ('twice', 'RB', 'Frequency'),\n",
       "  ('a', 'DT', 'Period'),\n",
       "  ('month', 'NN', 'PeriodUnit')],\n",
       " [('100', 'CD', 'Qty'),\n",
       "  ('tabs', 'NNS', 'Form'),\n",
       "  ('twice', 'RB', 'Frequency'),\n",
       "  ('a', 'DT', 'Period'),\n",
       "  ('month', 'NN', 'PeriodUnit')],\n",
       " [('100', 'CD', 'Qty'),\n",
       "  ('tabs', 'NNS', 'Form'),\n",
       "  ('once', 'RB', 'Frequency'),\n",
       "  ('a', 'DT', 'Period'),\n",
       "  ('month', 'NN', 'PeriodUnit')],\n",
       " [('100', 'CD', 'Qty'),\n",
       "  ('tabs', 'NNS', 'Form'),\n",
       "  ('thrice', 'NN', 'Frequency'),\n",
       "  ('a', 'DT', 'Period'),\n",
       "  ('month', 'NN', 'PeriodUnit')],\n",
       " [('3', 'CD', 'Qty'),\n",
       "  ('tabs', 'NNS', 'Form'),\n",
       "  ('daily', 'JJ', 'Frequency'),\n",
       "  ('for', 'IN', 'FOR'),\n",
       "  ('3', 'CD', 'Duration'),\n",
       "  ('days', 'NNS', 'DurationUnit'),\n",
       "  ('then', 'RB', 'THEN'),\n",
       "  ('1', 'CD', 'Qty'),\n",
       "  ('tab', 'NN', 'Form'),\n",
       "  ('per', 'IN', 'Frequency'),\n",
       "  ('day', 'NN', 'PeriodUnit'),\n",
       "  ('at', 'IN', 'AT'),\n",
       "  ('bed', 'NN', 'WHEN')],\n",
       " [('30', 'CD', 'Qty'),\n",
       "  ('tabs', 'NNS', 'Form'),\n",
       "  ('10', 'CD', 'Duration'),\n",
       "  ('days', 'NNS', 'DurationUnit'),\n",
       "  ('tid', 'NN', 'TID')],\n",
       " [('take', 'VB', 'Method'),\n",
       "  ('30', 'CD', 'Qty'),\n",
       "  ('tabs', 'NNS', 'Form'),\n",
       "  ('for', 'IN', 'FOR'),\n",
       "  ('10', 'CD', 'Duration'),\n",
       "  ('days', 'NNS', 'DurationUnit'),\n",
       "  ('three', 'CD', 'Qty'),\n",
       "  ('times', 'NNS', 'TIMES'),\n",
       "  ('a', 'DT', 'Period'),\n",
       "  ('day', 'NN', 'PeriodUnit')],\n",
       " [('qid', 'NN', 'QID'), ('q6h', 'NN', 'Q6H')],\n",
       " [('bid', 'NN', 'BID')],\n",
       " [('qid', 'NN', 'QID')],\n",
       " [('30', 'CD', 'Qty'),\n",
       "  ('tabs', 'NNS', 'Form'),\n",
       "  ('before', 'IN', 'BEFORE'),\n",
       "  ('dinner', 'NN', 'WHEN'),\n",
       "  ('and', 'CC', 'AND'),\n",
       "  ('bedtime', 'NN', 'WHEN')],\n",
       " [('30', 'CD', 'Qty'),\n",
       "  ('tabs', 'NNS', 'Form'),\n",
       "  ('before', 'IN', 'BEFORE'),\n",
       "  ('dinner', 'NN', 'WHEN'),\n",
       "  ('&', 'CC', 'AND'),\n",
       "  ('bedtime', 'NN', 'WHEN')],\n",
       " [('take', 'VB', 'Method'),\n",
       "  ('3', 'CD', 'Qty'),\n",
       "  ('tabs', 'NNS', 'Form'),\n",
       "  ('at', 'IN', 'AT'),\n",
       "  ('bedtime', 'NN', 'WHEN')],\n",
       " [('30', 'CD', 'Qty'),\n",
       "  ('tabs', 'NNS', 'Form'),\n",
       "  ('thrice', 'NN', 'Frequency'),\n",
       "  ('daily', 'JJ', 'DAILY'),\n",
       "  ('for', 'IN', 'FOR'),\n",
       "  ('10', 'CD', 'Duration'),\n",
       "  ('days', 'NNS', 'DurationUnit')],\n",
       " [('30', 'CD', 'Qty'),\n",
       "  ('tabs', 'NNS', 'Form'),\n",
       "  ('for', 'IN', 'FOR'),\n",
       "  ('10', 'CD', 'Duration'),\n",
       "  ('days', 'NNS', 'DurationUnit'),\n",
       "  ('three', 'CD', 'Frequency'),\n",
       "  ('times', 'NNS', 'TIMES'),\n",
       "  ('a', 'DT', 'Period'),\n",
       "  ('day', 'NN', 'PeriodUnit')],\n",
       " [('take', 'VB', 'Method'),\n",
       "  ('2', 'CD', 'Qty'),\n",
       "  ('tablets', 'NNS', 'Form'),\n",
       "  ('a', 'DT', 'Period'),\n",
       "  ('day', 'NN', 'PeriodUnit')],\n",
       " [('qid', 'NN', 'QID'),\n",
       "  ('for', 'IN', 'FOR'),\n",
       "  ('10', 'CD', 'Duration'),\n",
       "  ('days', 'NNS', 'DurationUnit')],\n",
       " [('every', 'DT', 'EVERY'), ('day', 'NN', 'PeriodUnit')],\n",
       " [('take', 'VB', 'Method'),\n",
       "  ('2', 'CD', 'Qty'),\n",
       "  ('caps', 'NNS', 'Form'),\n",
       "  ('at', 'IN', 'AT'),\n",
       "  ('bedtime', 'NN', 'WHEN')],\n",
       " [('apply', 'VB', 'Method'),\n",
       "  ('3', 'CD', 'Qty'),\n",
       "  ('drops', 'NNS', 'Form'),\n",
       "  ('before', 'IN', 'BEFORE'),\n",
       "  ('bedtime', 'NN', 'WHEN')],\n",
       " [('take', 'VB', 'Method'),\n",
       "  ('three', 'CD', 'Qty'),\n",
       "  ('capsules', 'NNS', 'Form'),\n",
       "  ('daily', 'JJ', 'DAILY')],\n",
       " [('swallow', 'NN', 'Method'),\n",
       "  ('3', 'CD', 'Qty'),\n",
       "  ('pills', 'NNS', 'Form'),\n",
       "  ('once', 'RB', 'Frequency'),\n",
       "  ('a', 'DT', 'Period'),\n",
       "  ('day', 'NN', 'PeriodUnit')],\n",
       " [('swallow', 'NN', 'Method'),\n",
       "  ('three', 'CD', 'Qty'),\n",
       "  ('pills', 'NNS', 'Form'),\n",
       "  ('thrice', 'NN', 'Frequency'),\n",
       "  ('a', 'DT', 'Period'),\n",
       "  ('day', 'NN', 'PeriodUnit')],\n",
       " [('apply', 'VB', 'Method'), ('daily', 'JJ', 'DAILY')],\n",
       " [('apply', 'VB', 'Method'),\n",
       "  ('three', 'CD', 'Qty'),\n",
       "  ('drops', 'NNS', 'Form'),\n",
       "  ('before', 'IN', 'BEFORE'),\n",
       "  ('bedtime', 'NN', 'WHEN')],\n",
       " [('every', 'DT', 'EVERY'),\n",
       "  ('6', 'CD', 'Period'),\n",
       "  ('hours', 'NNS', 'PeriodUnit')],\n",
       " [('before', 'IN', 'BEFORE'), ('food', 'NN', 'FOOD')],\n",
       " [('after', 'IN', 'AFTER'), ('food', 'NN', 'FOOD')],\n",
       " [('for', 'IN', 'FOR'),\n",
       "  ('20', 'CD', 'Duration'),\n",
       "  ('days', 'NNS', 'DurationUnit')],\n",
       " [('for', 'IN', 'FOR'),\n",
       "  ('twenty', 'NN', 'Duration'),\n",
       "  ('days', 'NNS', 'DurationUnit')],\n",
       " [('with', 'IN', 'WITH'), ('meals', 'NNS', 'FOOD')]]"
      ]
     },
     "execution_count": 14,
     "metadata": {},
     "output_type": "execute_result"
    }
   ],
   "source": [
    "sample_data = triples_maker(whole_data)\n",
    "sample_data"
   ]
  },
  {
   "cell_type": "markdown",
   "metadata": {},
   "source": [
    "### Creating the features extractor method (GIVEN as a BASELINE)\n",
    "#### The features used are:\n",
    "- SOS, EOS, lowercase, uppercase, title, digit, postag, previous_tag, next_tag\n",
    "#### Feel free to include more features"
   ]
  },
  {
   "cell_type": "code",
   "execution_count": 15,
   "metadata": {},
   "outputs": [],
   "source": [
    "def token_to_features(doc, i):\n",
    "    word = doc[i][0]\n",
    "    postag = doc[i][1]\n",
    "\n",
    "    # Common features for all words\n",
    "    features = [\n",
    "        'bias',\n",
    "        'word.lower=' + word.lower(),\n",
    "        'word[-3:]=' + word[-3:],\n",
    "        'word[-2:]=' + word[-2:],\n",
    "        'word.isupper=%s' % word.isupper(),\n",
    "        'word.istitle=%s' % word.istitle(),\n",
    "        'word.isdigit=%s' % word.isdigit(),\n",
    "        'postag=' + postag\n",
    "    ]\n",
    "\n",
    "    # Features for words that are not\n",
    "    # at the beginning of a document\n",
    "    if i > 0:\n",
    "        word1 = doc[i-1][0]\n",
    "        postag1 = doc[i-1][1]\n",
    "        features.extend([\n",
    "            '-1:word.lower=' + word1.lower(),\n",
    "            '-1:word.istitle=%s' % word1.istitle(),\n",
    "            '-1:word.isupper=%s' % word1.isupper(),\n",
    "            '-1:word.isdigit=%s' % word1.isdigit(),\n",
    "            '-1:postag=' + postag1\n",
    "        ])\n",
    "    else:\n",
    "        # Indicate that it is the 'beginning of a document'\n",
    "        features.append('BOS')\n",
    "\n",
    "    # Features for words that are not\n",
    "    # at the end of a document\n",
    "    if i < len(doc)-1:\n",
    "        word1 = doc[i+1][0]\n",
    "        postag1 = doc[i+1][1]\n",
    "        features.extend([\n",
    "            '+1:word.lower=' + word1.lower(),\n",
    "            '+1:word.istitle=%s' % word1.istitle(),\n",
    "            '+1:word.isupper=%s' % word1.isupper(),\n",
    "            '+1:word.isdigit=%s' % word1.isdigit(),\n",
    "            '+1:postag=' + postag1\n",
    "        ])\n",
    "    else:\n",
    "        # Indicate that it is the 'end of a document'\n",
    "        features.append('EOS')\n",
    "\n",
    "    return features"
   ]
  },
  {
   "cell_type": "markdown",
   "metadata": {},
   "source": [
    "### Running the feature extractor on the training data \n",
    "- Feature extraction\n",
    "- Train-test-split"
   ]
  },
  {
   "cell_type": "code",
   "execution_count": 16,
   "metadata": {},
   "outputs": [],
   "source": [
    "from sklearn.model_selection import train_test_split\n",
    "\n",
    "# A function for extracting features in documents\n",
    "def get_features (doc):\n",
    "    return [token_to_features (doc, i) for i in range(len(doc))]\n",
    "\n",
    "#A function fo generating the list of labels for each document\n",
    "def get_labels(doc):\n",
    "    return [label for (token, postag, label) in doc]\n",
    "\n",
    "\n",
    "X = [get_features (doc) for doc in sample_data]\n",
    "y = [get_labels (doc) for doc in sample_data]\n",
    "X_train, X_test, y_train, y_test = train_test_split(X, y, test_size = 0.2)"
   ]
  },
  {
   "cell_type": "markdown",
   "metadata": {},
   "source": [
    "### Training the CRF model with the features extracted using the feature extractor method"
   ]
  },
  {
   "cell_type": "code",
   "execution_count": null,
   "metadata": {},
   "outputs": [],
   "source": [
    "import pycrfsuite\n",
    "\n",
    "# Set the parameters of the model\n",
    "trainer = pycrfsuite.Trainer(algorithm='lbfgs', c1=0.1, c2=0.1, max_iterations=100, all_possible_transitions=True)\n",
    "\n",
    "# Submit training data to the trainer\n",
    "for xseq, yseq in zip(X_train, y_train):\n",
    "    trainer.append(xseq, yseq)\n",
    "\n",
    "# Provide a file name as a parameter to the train function\n",
    "# The model will be saved to the file when training is finished\n",
    "trainer.train('your_model_file.crfsuite')\n"
   ]
  },
  {
   "cell_type": "code",
   "execution_count": 27,
   "metadata": {},
   "outputs": [
    {
     "data": {
      "text/plain": [
       "['crf_model.sav']"
      ]
     },
     "execution_count": 27,
     "metadata": {},
     "output_type": "execute_result"
    }
   ],
   "source": [
    "from sklearn_crfsuite import CRF\n",
    "import joblib\n",
    "\n",
    "\n",
    "# Initialize the CRF model with parameters\n",
    "# Optionally, you can adjust the parameters during initialization\n",
    "crf_model = CRF(algorithm='lbfgs',\n",
    "                c1=0.2,\n",
    "                c2=0.2,\n",
    "                max_iterations=100,\n",
    "                all_possible_transitions=True)\n",
    "\n",
    "# Submit training data to the trainer\n",
    "crf_model.fit(X_train, y_train)\n",
    "\n",
    "# Providing a file name as a parameter to the train function\n",
    "# The model will be saved to the file when training is finished\n",
    "model_file = \"crf_model.sav\"\n",
    "joblib.dump(crf_model, model_file)"
   ]
  },
  {
   "cell_type": "markdown",
   "metadata": {},
   "source": [
    "### Predicting the test data with the built model"
   ]
  },
  {
   "cell_type": "code",
   "execution_count": 29,
   "metadata": {
    "scrolled": true
   },
   "outputs": [
    {
     "name": "stdout",
     "output_type": "stream",
     "text": [
      "Predicted Labels:\n",
      "['Method', 'Qty', 'Form', 'Frequency', 'Period', 'PeriodUnit']\n",
      "\n",
      "True Labels:\n",
      "['Method', 'Qty', 'Form', 'Frequency', 'Period', 'PeriodUnit']\n"
     ]
    }
   ],
   "source": [
    "# Predicting labels for the test data\n",
    "y_pred = crf_model.predict(X_test)\n",
    "\n",
    "# Displaying the predicted labels for the first example in the test set\n",
    "print(\"Predicted Labels:\")\n",
    "print(y_pred[0])\n",
    "\n",
    "# Displaying the true labels for the first example in the test set\n",
    "print(\"\\nTrue Labels:\")\n",
    "print(y_test[0])"
   ]
  },
  {
   "cell_type": "code",
   "execution_count": null,
   "metadata": {},
   "outputs": [],
   "source": []
  },
  {
   "cell_type": "markdown",
   "metadata": {},
   "source": [
    "### Putting all the prediction logic inside a predict method"
   ]
  },
  {
   "cell_type": "code",
   "execution_count": 42,
   "metadata": {},
   "outputs": [],
   "source": [
    "def predict(sig):\n",
    "    \"\"\"\n",
    "    predict(sig)\n",
    "    Purpose: Labels the given sig into corresponding labels\n",
    "    @param sig. A Sentence  # A medical prescription sig written by a doctor\n",
    "    @return     A list      # A list with predicted labels (first level of labeling)\n",
    "    \"\"\"\n",
    "    # Tokenize the input sentence\n",
    "    tokens = sig.split()\n",
    "\n",
    "    # Extract features for each token\n",
    "    features = [token_to_features([(token, 'POS_TAG_PLACEHOLDER', 'LABEL_PLACEHOLDER')], 0) for token in tokens]\n",
    "\n",
    "    # Predict labels using the trained CRF model\n",
    "    predicted_labels = crf_model.predict_single(features)\n",
    "\n",
    "    # Combine tokens with predicted labels\n",
    "    result = [predicted_labels]\n",
    "\n",
    "    return f\"{sig}\\n{result}\"\n"
   ]
  },
  {
   "cell_type": "markdown",
   "metadata": {},
   "source": [
    "### Sample predictions"
   ]
  },
  {
   "cell_type": "code",
   "execution_count": 43,
   "metadata": {},
   "outputs": [
    {
     "name": "stdout",
     "output_type": "stream",
     "text": [
      "take 2 tabs every 6 hours x 10 days\n",
      "[['Method', 'Qty', 'Form', 'EVERY', 'Period', 'PeriodUnit', 'FOR', 'Duration', 'DurationUnit']]\n"
     ]
    }
   ],
   "source": [
    "predictions = predict(\"take 2 tabs every 6 hours x 10 days\")\n",
    "print(predictions)"
   ]
  },
  {
   "cell_type": "code",
   "execution_count": 44,
   "metadata": {},
   "outputs": [
    {
     "name": "stdout",
     "output_type": "stream",
     "text": [
      "2 capsu for 10 day at bed\n",
      "[['Qty', 'Form', 'FOR', 'Duration', 'PeriodUnit', 'AT', 'WHEN']]\n"
     ]
    }
   ],
   "source": [
    "predictions = predict(\"2 capsu for 10 day at bed\")\n",
    "print(predictions)"
   ]
  },
  {
   "cell_type": "code",
   "execution_count": 45,
   "metadata": {},
   "outputs": [
    {
     "name": "stdout",
     "output_type": "stream",
     "text": [
      "2 capsu for 10 days at bed\n",
      "[['Qty', 'Form', 'FOR', 'Duration', 'DurationUnit', 'AT', 'WHEN']]\n"
     ]
    }
   ],
   "source": [
    "predictions = predict(\"2 capsu for 10 days at bed\")\n",
    "print(predictions)"
   ]
  },
  {
   "cell_type": "code",
   "execution_count": 46,
   "metadata": {},
   "outputs": [
    {
     "name": "stdout",
     "output_type": "stream",
     "text": [
      "5 days 2 tabs at bed\n",
      "[['Duration', 'DurationUnit', 'Qty', 'Form', 'AT', 'WHEN']]\n"
     ]
    }
   ],
   "source": [
    "predictions = predict(\"5 days 2 tabs at bed\")\n",
    "print(predictions)"
   ]
  },
  {
   "cell_type": "code",
   "execution_count": 47,
   "metadata": {},
   "outputs": [
    {
     "name": "stdout",
     "output_type": "stream",
     "text": [
      "3 tabs qid x 10 weeks\n",
      "[['Qty', 'Form', 'QID', 'FOR', 'Duration', 'DurationUnit']]\n"
     ]
    }
   ],
   "source": [
    "predictions = predict(\"3 tabs qid x 10 weeks\")\n",
    "print(predictions)"
   ]
  },
  {
   "cell_type": "code",
   "execution_count": 48,
   "metadata": {},
   "outputs": [
    {
     "name": "stdout",
     "output_type": "stream",
     "text": [
      "x 30 days\n",
      "[['FOR', 'Duration', 'DurationUnit']]\n"
     ]
    }
   ],
   "source": [
    "predictions = predict(\"x 30 days\")\n",
    "print(predictions)"
   ]
  },
  {
   "cell_type": "code",
   "execution_count": 49,
   "metadata": {},
   "outputs": [
    {
     "name": "stdout",
     "output_type": "stream",
     "text": [
      "x 20 months\n",
      "[['FOR', 'Duration', 'DurationUnit']]\n"
     ]
    }
   ],
   "source": [
    "predictions = predict(\"x 20 months\")\n",
    "print(predictions)"
   ]
  },
  {
   "cell_type": "code",
   "execution_count": 50,
   "metadata": {},
   "outputs": [
    {
     "name": "stdout",
     "output_type": "stream",
     "text": [
      "take 2 tabs po tid for 10 days\n",
      "[['Method', 'Qty', 'Form', 'PO', 'TID', 'FOR', 'Duration', 'DurationUnit']]\n"
     ]
    }
   ],
   "source": [
    "predictions = predict(\"take 2 tabs po tid for 10 days\")\n",
    "print(predictions)"
   ]
  },
  {
   "cell_type": "code",
   "execution_count": 51,
   "metadata": {},
   "outputs": [
    {
     "name": "stdout",
     "output_type": "stream",
     "text": [
      "take 2 capsules po every 6 hours\n",
      "[['Method', 'Qty', 'Form', 'PO', 'EVERY', 'Period', 'PeriodUnit']]\n"
     ]
    }
   ],
   "source": [
    "predictions = predict(\"take 2 capsules po every 6 hours\")\n",
    "print(predictions)"
   ]
  },
  {
   "cell_type": "code",
   "execution_count": 52,
   "metadata": {},
   "outputs": [
    {
     "name": "stdout",
     "output_type": "stream",
     "text": [
      "inject 2 units pu tid\n",
      "[['Method', 'Qty', 'Form', 'Frequency', 'TID']]\n"
     ]
    }
   ],
   "source": [
    "predictions = predict(\"inject 2 units pu tid\")\n",
    "print(predictions)"
   ]
  },
  {
   "cell_type": "code",
   "execution_count": 53,
   "metadata": {},
   "outputs": [
    {
     "name": "stdout",
     "output_type": "stream",
     "text": [
      "swallow 3 caps tid by mouth\n",
      "[['Method', 'Qty', 'Form', 'TID', 'Period', 'PeriodUnit']]\n"
     ]
    }
   ],
   "source": [
    "predictions = predict(\"swallow 3 caps tid by mouth\")\n",
    "print(predictions)"
   ]
  },
  {
   "cell_type": "code",
   "execution_count": 54,
   "metadata": {},
   "outputs": [
    {
     "name": "stdout",
     "output_type": "stream",
     "text": [
      "inject 3 units orally\n",
      "[['Method', 'Qty', 'Form', 'PO']]\n"
     ]
    }
   ],
   "source": [
    "predictions = predict(\"inject 3 units orally\")\n",
    "print(predictions)"
   ]
  },
  {
   "cell_type": "code",
   "execution_count": 55,
   "metadata": {},
   "outputs": [
    {
     "name": "stdout",
     "output_type": "stream",
     "text": [
      "orally take 3 tabs tid\n",
      "[['PO', 'Method', 'Qty', 'Form', 'TID']]\n"
     ]
    }
   ],
   "source": [
    "predictions = predict(\"orally take 3 tabs tid\")\n",
    "print(predictions)"
   ]
  },
  {
   "cell_type": "code",
   "execution_count": 56,
   "metadata": {},
   "outputs": [
    {
     "name": "stdout",
     "output_type": "stream",
     "text": [
      "by mouth take three caps\n",
      "[['Period', 'PeriodUnit', 'Method', 'Qty', 'Form']]\n"
     ]
    }
   ],
   "source": [
    "predictions = predict(\"by mouth take three caps\")\n",
    "print(predictions)"
   ]
  },
  {
   "cell_type": "code",
   "execution_count": 57,
   "metadata": {},
   "outputs": [
    {
     "name": "stdout",
     "output_type": "stream",
     "text": [
      "take 3 tabs orally three times a day for 10 days at bedtime\n",
      "[['Method', 'Qty', 'Form', 'PO', 'Frequency', 'TIMES', 'Period', 'PeriodUnit', 'FOR', 'Duration', 'DurationUnit', 'AT', 'WHEN']]\n"
     ]
    }
   ],
   "source": [
    "predictions = predict(\"take 3 tabs orally three times a day for 10 days at bedtime\")\n",
    "print(predictions)"
   ]
  },
  {
   "cell_type": "code",
   "execution_count": 58,
   "metadata": {},
   "outputs": [
    {
     "name": "stdout",
     "output_type": "stream",
     "text": [
      "take 3 tabs orally bid for 10 days at bedtime\n",
      "[['Method', 'Qty', 'Form', 'PO', 'BID', 'FOR', 'Duration', 'DurationUnit', 'AT', 'WHEN']]\n"
     ]
    }
   ],
   "source": [
    "predictions = predict(\"take 3 tabs orally bid for 10 days at bedtime\")\n",
    "print(predictions)"
   ]
  },
  {
   "cell_type": "code",
   "execution_count": 59,
   "metadata": {},
   "outputs": [
    {
     "name": "stdout",
     "output_type": "stream",
     "text": [
      "take 3 tabs bid orally at bed\n",
      "[['Method', 'Qty', 'Form', 'BID', 'PO', 'AT', 'WHEN']]\n"
     ]
    }
   ],
   "source": [
    "predictions = predict(\"take 3 tabs bid orally at bed\")\n",
    "print(predictions)"
   ]
  },
  {
   "cell_type": "code",
   "execution_count": 60,
   "metadata": {},
   "outputs": [
    {
     "name": "stdout",
     "output_type": "stream",
     "text": [
      "take 10 capsules by mouth qid\n",
      "[['Method', 'Qty', 'Form', 'Period', 'PeriodUnit', 'QID']]\n"
     ]
    }
   ],
   "source": [
    "predictions = predict(\"take 10 capsules by mouth qid\")\n",
    "print(predictions)"
   ]
  },
  {
   "cell_type": "code",
   "execution_count": 61,
   "metadata": {},
   "outputs": [
    {
     "name": "stdout",
     "output_type": "stream",
     "text": [
      "inject 10 units orally qid x 3 months\n",
      "[['Method', 'Qty', 'Form', 'PO', 'QID', 'FOR', 'Duration', 'DurationUnit']]\n"
     ]
    }
   ],
   "source": [
    "predictions = predict(\"inject 10 units orally qid x 3 months\")\n",
    "print(predictions)"
   ]
  },
  {
   "cell_type": "code",
   "execution_count": 62,
   "metadata": {},
   "outputs": [
    {
     "name": "stdout",
     "output_type": "stream",
     "text": [
      "inject 10 units orally qid x 3 months\n",
      "[['Method', 'Qty', 'Form', 'PO', 'QID', 'FOR', 'Duration', 'DurationUnit']]\n"
     ]
    }
   ],
   "source": [
    "prediction = predict(\"please take 2 tablets per day for a month in the morning and evening each day\")\n",
    "print(predictions)"
   ]
  },
  {
   "cell_type": "code",
   "execution_count": 63,
   "metadata": {},
   "outputs": [
    {
     "name": "stdout",
     "output_type": "stream",
     "text": [
      "inject 10 units orally qid x 3 months\n",
      "[['Method', 'Qty', 'Form', 'PO', 'QID', 'FOR', 'Duration', 'DurationUnit']]\n"
     ]
    }
   ],
   "source": [
    "prediction = predict(\"Amoxcicillin QID 30 tablets\")\n",
    "print(predictions)"
   ]
  },
  {
   "cell_type": "code",
   "execution_count": 64,
   "metadata": {},
   "outputs": [
    {
     "name": "stdout",
     "output_type": "stream",
     "text": [
      "inject 10 units orally qid x 3 months\n",
      "[['Method', 'Qty', 'Form', 'PO', 'QID', 'FOR', 'Duration', 'DurationUnit']]\n"
     ]
    }
   ],
   "source": [
    "prediction = predict(\"take 3 tabs TID for 90 days with food\")\n",
    "print(predictions)"
   ]
  },
  {
   "cell_type": "code",
   "execution_count": 65,
   "metadata": {},
   "outputs": [
    {
     "name": "stdout",
     "output_type": "stream",
     "text": [
      "inject 10 units orally qid x 3 months\n",
      "[['Method', 'Qty', 'Form', 'PO', 'QID', 'FOR', 'Duration', 'DurationUnit']]\n"
     ]
    }
   ],
   "source": [
    "prediction = predict(\"with food take 3 tablets per day for 90 days\")\n",
    "print(predictions)"
   ]
  },
  {
   "cell_type": "code",
   "execution_count": 66,
   "metadata": {},
   "outputs": [
    {
     "name": "stdout",
     "output_type": "stream",
     "text": [
      "inject 10 units orally qid x 3 months\n",
      "[['Method', 'Qty', 'Form', 'PO', 'QID', 'FOR', 'Duration', 'DurationUnit']]\n"
     ]
    }
   ],
   "source": [
    "prediction = predict(\"with food take 3 tablets per week for 90 weeks\")\n",
    "print(predictions)"
   ]
  },
  {
   "cell_type": "code",
   "execution_count": 67,
   "metadata": {},
   "outputs": [
    {
     "name": "stdout",
     "output_type": "stream",
     "text": [
      "inject 10 units orally qid x 3 months\n",
      "[['Method', 'Qty', 'Form', 'PO', 'QID', 'FOR', 'Duration', 'DurationUnit']]\n"
     ]
    }
   ],
   "source": [
    "prediction = predict(\"take 2-4 tabs\")\n",
    "print(predictions)"
   ]
  },
  {
   "cell_type": "code",
   "execution_count": 68,
   "metadata": {},
   "outputs": [
    {
     "name": "stdout",
     "output_type": "stream",
     "text": [
      "inject 10 units orally qid x 3 months\n",
      "[['Method', 'Qty', 'Form', 'PO', 'QID', 'FOR', 'Duration', 'DurationUnit']]\n"
     ]
    }
   ],
   "source": [
    "prediction = predict(\"take 2 to 4 tabs\")\n",
    "print(predictions)"
   ]
  },
  {
   "cell_type": "code",
   "execution_count": 69,
   "metadata": {},
   "outputs": [
    {
     "name": "stdout",
     "output_type": "stream",
     "text": [
      "inject 10 units orally qid x 3 months\n",
      "[['Method', 'Qty', 'Form', 'PO', 'QID', 'FOR', 'Duration', 'DurationUnit']]\n"
     ]
    }
   ],
   "source": [
    "prediction = predict(\"take two to four tabs\")\n",
    "print(predictions)"
   ]
  },
  {
   "cell_type": "code",
   "execution_count": 70,
   "metadata": {},
   "outputs": [
    {
     "name": "stdout",
     "output_type": "stream",
     "text": [
      "inject 10 units orally qid x 3 months\n",
      "[['Method', 'Qty', 'Form', 'PO', 'QID', 'FOR', 'Duration', 'DurationUnit']]\n"
     ]
    }
   ],
   "source": [
    "prediction = predict(\"take 2-4 tabs for 8 to 9 days\")\n",
    "print(predictions)"
   ]
  },
  {
   "cell_type": "code",
   "execution_count": 71,
   "metadata": {},
   "outputs": [
    {
     "name": "stdout",
     "output_type": "stream",
     "text": [
      "inject 10 units orally qid x 3 months\n",
      "[['Method', 'Qty', 'Form', 'PO', 'QID', 'FOR', 'Duration', 'DurationUnit']]\n"
     ]
    }
   ],
   "source": [
    "prediction = predict(\"take 20 tabs every 6 to 8 days\")\n",
    "print(predictions)"
   ]
  },
  {
   "cell_type": "code",
   "execution_count": 72,
   "metadata": {},
   "outputs": [
    {
     "name": "stdout",
     "output_type": "stream",
     "text": [
      "inject 10 units orally qid x 3 months\n",
      "[['Method', 'Qty', 'Form', 'PO', 'QID', 'FOR', 'Duration', 'DurationUnit']]\n"
     ]
    }
   ],
   "source": [
    "prediction = predict(\"take 2 tabs every 4 to 6 days\")\n",
    "print(predictions)"
   ]
  },
  {
   "cell_type": "code",
   "execution_count": 73,
   "metadata": {},
   "outputs": [
    {
     "name": "stdout",
     "output_type": "stream",
     "text": [
      "inject 10 units orally qid x 3 months\n",
      "[['Method', 'Qty', 'Form', 'PO', 'QID', 'FOR', 'Duration', 'DurationUnit']]\n"
     ]
    }
   ],
   "source": [
    "prediction = predict(\"take 2 tabs every 2 to 10 weeks\")\n",
    "print(predictions)"
   ]
  },
  {
   "cell_type": "code",
   "execution_count": 74,
   "metadata": {},
   "outputs": [
    {
     "name": "stdout",
     "output_type": "stream",
     "text": [
      "inject 10 units orally qid x 3 months\n",
      "[['Method', 'Qty', 'Form', 'PO', 'QID', 'FOR', 'Duration', 'DurationUnit']]\n"
     ]
    }
   ],
   "source": [
    "prediction = predict(\"take 2 tabs every 4 to 6 days\")\n",
    "print(predictions)"
   ]
  },
  {
   "cell_type": "code",
   "execution_count": 75,
   "metadata": {},
   "outputs": [
    {
     "name": "stdout",
     "output_type": "stream",
     "text": [
      "inject 10 units orally qid x 3 months\n",
      "[['Method', 'Qty', 'Form', 'PO', 'QID', 'FOR', 'Duration', 'DurationUnit']]\n"
     ]
    }
   ],
   "source": [
    "prediction = predict(\"take 2 tabs every 2 to 10 months\")\n",
    "print(predictions)"
   ]
  },
  {
   "cell_type": "code",
   "execution_count": 76,
   "metadata": {},
   "outputs": [
    {
     "name": "stdout",
     "output_type": "stream",
     "text": [
      "inject 10 units orally qid x 3 months\n",
      "[['Method', 'Qty', 'Form', 'PO', 'QID', 'FOR', 'Duration', 'DurationUnit']]\n"
     ]
    }
   ],
   "source": [
    "prediction = predict(\"every 60 mins\")\n",
    "print(predictions)"
   ]
  },
  {
   "cell_type": "code",
   "execution_count": 77,
   "metadata": {},
   "outputs": [
    {
     "name": "stdout",
     "output_type": "stream",
     "text": [
      "inject 10 units orally qid x 3 months\n",
      "[['Method', 'Qty', 'Form', 'PO', 'QID', 'FOR', 'Duration', 'DurationUnit']]\n"
     ]
    }
   ],
   "source": [
    "prediction = predict(\"every 10 mins\")\n",
    "print(predictions)"
   ]
  },
  {
   "cell_type": "code",
   "execution_count": 78,
   "metadata": {},
   "outputs": [
    {
     "name": "stdout",
     "output_type": "stream",
     "text": [
      "inject 10 units orally qid x 3 months\n",
      "[['Method', 'Qty', 'Form', 'PO', 'QID', 'FOR', 'Duration', 'DurationUnit']]\n"
     ]
    }
   ],
   "source": [
    "prediction = predict(\"every two to four months\")\n",
    "print(predictions)"
   ]
  },
  {
   "cell_type": "code",
   "execution_count": 79,
   "metadata": {},
   "outputs": [
    {
     "name": "stdout",
     "output_type": "stream",
     "text": [
      "inject 10 units orally qid x 3 months\n",
      "[['Method', 'Qty', 'Form', 'PO', 'QID', 'FOR', 'Duration', 'DurationUnit']]\n"
     ]
    }
   ],
   "source": [
    "prediction = predict(\"take 2 tabs every 3 to 4 days\")\n",
    "print(predictions)"
   ]
  },
  {
   "cell_type": "code",
   "execution_count": 80,
   "metadata": {},
   "outputs": [
    {
     "name": "stdout",
     "output_type": "stream",
     "text": [
      "inject 10 units orally qid x 3 months\n",
      "[['Method', 'Qty', 'Form', 'PO', 'QID', 'FOR', 'Duration', 'DurationUnit']]\n"
     ]
    }
   ],
   "source": [
    "prediction = predict(\"every 3 to 4 days take 20 tabs\")\n",
    "print(predictions)"
   ]
  },
  {
   "cell_type": "code",
   "execution_count": 81,
   "metadata": {},
   "outputs": [
    {
     "name": "stdout",
     "output_type": "stream",
     "text": [
      "inject 10 units orally qid x 3 months\n",
      "[['Method', 'Qty', 'Form', 'PO', 'QID', 'FOR', 'Duration', 'DurationUnit']]\n"
     ]
    }
   ],
   "source": [
    "prediction = predict(\"once in every 3 days take 3 tabs\")\n",
    "print(predictions)"
   ]
  },
  {
   "cell_type": "code",
   "execution_count": 82,
   "metadata": {},
   "outputs": [
    {
     "name": "stdout",
     "output_type": "stream",
     "text": [
      "inject 10 units orally qid x 3 months\n",
      "[['Method', 'Qty', 'Form', 'PO', 'QID', 'FOR', 'Duration', 'DurationUnit']]\n"
     ]
    }
   ],
   "source": [
    "prediction = predict(\"take 3 tabs once in every 3 days\")\n",
    "print(predictions)"
   ]
  },
  {
   "cell_type": "code",
   "execution_count": 83,
   "metadata": {},
   "outputs": [
    {
     "name": "stdout",
     "output_type": "stream",
     "text": [
      "inject 10 units orally qid x 3 months\n",
      "[['Method', 'Qty', 'Form', 'PO', 'QID', 'FOR', 'Duration', 'DurationUnit']]\n"
     ]
    }
   ],
   "source": [
    "prediction = predict(\"orally take 20 tabs every 4-6 weeks\")\n",
    "print(predictions)"
   ]
  },
  {
   "cell_type": "code",
   "execution_count": 84,
   "metadata": {},
   "outputs": [
    {
     "name": "stdout",
     "output_type": "stream",
     "text": [
      "inject 10 units orally qid x 3 months\n",
      "[['Method', 'Qty', 'Form', 'PO', 'QID', 'FOR', 'Duration', 'DurationUnit']]\n"
     ]
    }
   ],
   "source": [
    "prediction = predict(\"10 tabs x 2 days\")\n",
    "print(predictions)"
   ]
  },
  {
   "cell_type": "code",
   "execution_count": 85,
   "metadata": {},
   "outputs": [
    {
     "name": "stdout",
     "output_type": "stream",
     "text": [
      "inject 10 units orally qid x 3 months\n",
      "[['Method', 'Qty', 'Form', 'PO', 'QID', 'FOR', 'Duration', 'DurationUnit']]\n"
     ]
    }
   ],
   "source": [
    "prediction = predict(\"3 capsule x 15 days\")\n",
    "print(predictions)"
   ]
  },
  {
   "cell_type": "code",
   "execution_count": 86,
   "metadata": {},
   "outputs": [
    {
     "name": "stdout",
     "output_type": "stream",
     "text": [
      "inject 10 units orally qid x 3 months\n",
      "[['Method', 'Qty', 'Form', 'PO', 'QID', 'FOR', 'Duration', 'DurationUnit']]\n"
     ]
    }
   ],
   "source": [
    "prediction = predict(\"10 tabs\")\n",
    "print(predictions)"
   ]
  }
 ],
 "metadata": {
  "kernelspec": {
   "display_name": "Python 3",
   "language": "python",
   "name": "python3"
  },
  "language_info": {
   "codemirror_mode": {
    "name": "ipython",
    "version": 3
   },
   "file_extension": ".py",
   "mimetype": "text/x-python",
   "name": "python",
   "nbconvert_exporter": "python",
   "pygments_lexer": "ipython3",
   "version": "3.11.4"
  }
 },
 "nbformat": 4,
 "nbformat_minor": 2
}
